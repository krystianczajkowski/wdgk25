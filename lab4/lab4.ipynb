{
 "cells": [
  {
   "cell_type": "code",
   "execution_count": 21,
   "metadata": {},
   "outputs": [],
   "source": [
    "from PIL import Image  \n",
    "import numpy as np"
   ]
  },
  {
   "cell_type": "code",
   "execution_count": 22,
   "metadata": {},
   "outputs": [
    {
     "data": {
      "image/png": "[encoded data removed]",
      "text/plain": [
       "<PIL.Image.Image image mode=L size=100x100 at 0x25ABF0D5490>"
      ]
     },
     "execution_count": 22,
     "metadata": {},
     "output_type": "execute_result"
    }
   ],
   "source": [
    "def rysuj_po_skosie_szare(h,w, a, b):  # formuła zmiany wartości elemntów tablicy a*i + b*j\n",
    "    t = (h, w) # rysuje kwadratowy obraz\n",
    "    tab = np.zeros(t, dtype=np.uint8)\n",
    "    for i in range(h):\n",
    "        for j in range(w):\n",
    "            tab[i, j] = (a*i + b*j) % 256 \n",
    "    return tab\n",
    "\n",
    "\n",
    "im_skos = Image.fromarray(rysuj_po_skosie_szare(100, 100, -20, 20))\n",
    "\n",
    "im_skos"
   ]
  },
  {
   "cell_type": "code",
   "execution_count": 23,
   "metadata": {},
   "outputs": [
    {
     "data": {
      "image/png": "[encoded data removed]",
      "text/plain": [
       "<PIL.Image.Image image mode=RGB size=100x100 at 0x25ABF02E340>"
      ]
     },
     "execution_count": 23,
     "metadata": {},
     "output_type": "execute_result"
    }
   ],
   "source": [
    "def rysuj_ramki_kolorowe(w, zmiana_koloru_r, zmiana_koloru_g, zmiana_koloru_b):\n",
    "    t = (w, w, 3)\n",
    "    tab = np.zeros(t, dtype=np.uint8)\n",
    "    kolor_r = 6\n",
    "    kolor_g = 4\n",
    "    kolor_b = 2\n",
    "    z = w\n",
    "    for k in range(int(w / 2)):\n",
    "        for i in range(k, z - k):\n",
    "            for j in range(k, z - k):\n",
    "                tab[i, j] = [kolor_r, kolor_g, kolor_b]\n",
    "        kolor_r = kolor_r - zmiana_koloru_r\n",
    "        kolor_g = kolor_g - zmiana_koloru_g\n",
    "        kolor_b = kolor_b - zmiana_koloru_b\n",
    "    return tab\n",
    "\n",
    "rgb_im = Image.fromarray(rysuj_ramki_kolorowe(100,20,13,4))\n",
    "rgb_im\n",
    "\n"
   ]
  },
  {
   "cell_type": "code",
   "execution_count": 24,
   "metadata": {},
   "outputs": [
    {
     "data": {
      "image/png": "[encoded data removed]",
      "text/plain": [
       "<PIL.Image.Image image mode=L size=100x100 at 0x25AB7537640>"
      ]
     },
     "execution_count": 24,
     "metadata": {},
     "output_type": "execute_result"
    }
   ],
   "source": [
    "def rysuj_kolo(w, h, r, m, n, kolor): # koło o promieniu r i środku m, n, kolor = 0 lub 255\n",
    "    t = (h, w) # rysuje kwadratowy obraz\n",
    "    tab = np.zeros(t, dtype=np.uint8)\n",
    "    for i in range(h):\n",
    "        for j in range(w):\n",
    "            if (i-n)**2+(j-m)**2 < r**2: # wzór na koło o środku (m_s, n_s) i promieniu r\n",
    "                tab[i, j] = kolor \n",
    "            else: \n",
    "                tab[i, j] = 255 - kolor \n",
    "    return tab\n",
    "\n",
    "kolo_im = Image.fromarray(rysuj_kolo(100,100,40,50,50, 255))\n",
    "kolo_im"
   ]
  },
  {
   "cell_type": "markdown",
   "metadata": {},
   "source": [
    "kanały obrazu RGB"
   ]
  },
  {
   "cell_type": "code",
   "execution_count": 25,
   "metadata": {},
   "outputs": [
    {
     "name": "stdout",
     "output_type": "stream",
     "text": [
      "typ danych tablicy kanału r:  uint8\n",
      "rozmiar elemntu tablicy kanału r:  1\n",
      "rozmiar tablicy kanału r:  (100, 100)\n",
      "wymiar tablicy kanału r:  (100, 100)\n",
      "tryb kanału r:  L\n"
     ]
    }
   ],
   "source": [
    "tab = rysuj_ramki_kolorowe(100,20,13,4)\n",
    "\n",
    "t_r = tab[:, :, 0]\n",
    "print(\"typ danych tablicy kanału r: \", t_r.dtype)\n",
    "print(\"rozmiar elemntu tablicy kanału r: \",t_r.itemsize)\n",
    "print(\"rozmiar tablicy kanału r: \",t_r.shape)\n",
    "print(\"wymiar tablicy kanału r: \",t_r.shape)\n",
    "im_r = Image.fromarray(t_r) # obraz w odcieniach szarości kanału r\n",
    "print(\"tryb kanału r: \", im_r.mode)\n",
    "\n",
    "t_g= tab[:, :, 1]\n",
    "im_g = Image.fromarray(t_g) # obraz w odcieniach szarości kanału g\n",
    "\n",
    "t_b = tab[:, :, 2]\n",
    "im_b = Image.fromarray(t_b) # obraz w odcieniach szarości kanału b"
   ]
  },
  {
   "cell_type": "code",
   "execution_count": 26,
   "metadata": {},
   "outputs": [
    {
     "data": {
      "image/png": "[encoded data removed]",
      "text/plain": [
       "<PIL.Image.Image image mode=L size=100x100 at 0x25ABF0D5670>"
      ]
     },
     "execution_count": 26,
     "metadata": {},
     "output_type": "execute_result"
    }
   ],
   "source": [
    "im_r"
   ]
  },
  {
   "cell_type": "code",
   "execution_count": 27,
   "metadata": {},
   "outputs": [
    {
     "data": {
      "image/png": "[encoded data removed]",
      "text/plain": [
       "<PIL.Image.Image image mode=L size=100x100 at 0x25ABF0D5970>"
      ]
     },
     "execution_count": 27,
     "metadata": {},
     "output_type": "execute_result"
    }
   ],
   "source": [
    "im_g"
   ]
  },
  {
   "cell_type": "code",
   "execution_count": 28,
   "metadata": {},
   "outputs": [
    {
     "data": {
      "image/png": "[encoded data removed]",
      "text/plain": [
       "<PIL.Image.Image image mode=L size=100x100 at 0x25ABF0D5400>"
      ]
     },
     "execution_count": 28,
     "metadata": {},
     "output_type": "execute_result"
    }
   ],
   "source": [
    "im_b"
   ]
  },
  {
   "cell_type": "markdown",
   "metadata": {},
   "source": [
    "Tworzenie obrazu RGBA"
   ]
  },
  {
   "cell_type": "code",
   "execution_count": 29,
   "metadata": {},
   "outputs": [
    {
     "data": {
      "image/png": "[encoded data removed]",
      "text/plain": [
       "<PIL.Image.Image image mode=RGBA size=100x100 at 0x25ABF0D5AF0>"
      ]
     },
     "execution_count": 29,
     "metadata": {},
     "output_type": "execute_result"
    }
   ],
   "source": [
    "\n",
    "a = rysuj_po_skosie_szare(100, 100, 20, -20) # tablica kanału alfa\n",
    "rgb  = rysuj_ramki_kolorowe(100,20,13,4)   # tablica RGB \n",
    "\n",
    "# Rozszerzenie wymiaru tablicy a do (100, 100, 1)\n",
    "a_ext = np.expand_dims(a, axis=-1)\n",
    "\n",
    "# Połączenie wzdłuż ostatniego wymiaru\n",
    "combined = np.concatenate((rgb, a_ext), axis=-1) # tak samo działa combined = np.stack((rgb[..., 0], rgb[..., 1], rgb[..., 2], a[..., 0]), axis=-1)\n",
    "#combined = np.stack((rgb[..., 0], rgb[..., 1], rgb[..., 2], a_ext[..., 0]), axis=-1)\n",
    "rgba_im = Image.fromarray(combined)\n",
    "rgba_im"
   ]
  },
  {
   "cell_type": "code",
   "execution_count": 30,
   "metadata": {},
   "outputs": [
    {
     "data": {
      "image/png": "[encoded data removed]",
      "text/plain": [
       "<PIL.Image.Image image mode=RGBA size=100x100 at 0x25ABF020580>"
      ]
     },
     "execution_count": 30,
     "metadata": {},
     "output_type": "execute_result"
    }
   ],
   "source": [
    "a = rysuj_kolo(100,100,40,50,50, 255) # tablica kanału alfa \n",
    "\n",
    "rgb  = rysuj_ramki_kolorowe(100,20,13,4)   # tablica RGB\n",
    "a_ext = np.expand_dims(a, axis=-1)\n",
    "combined = np.concatenate((rgb, a_ext), axis=-1)\n",
    "\n",
    "rgba_im = Image.fromarray(combined)\n",
    "rgba_im"
   ]
  },
  {
   "cell_type": "markdown",
   "metadata": {},
   "source": [
    "Tworzenie obrazu w trybie CMYK na bazie tablicy obrazu RGBA"
   ]
  },
  {
   "cell_type": "code",
   "execution_count": 31,
   "metadata": {},
   "outputs": [],
   "source": [
    "a = rysuj_kolo(100,100,40,50,50, 0) # tablica kanału alfa \n",
    "rgb  = rysuj_ramki_kolorowe(100,20,13,4)   # tablica RGB\n",
    "\n",
    "a_ext = np.expand_dims(a, axis=-1)\n",
    "combined1 = np.concatenate((rgb, a_ext), axis=-1)\n",
    "\n",
    "\n",
    "cmyk_im = Image.fromarray(combined1, mode='CMYK')\n",
    "\n",
    "cmyk_im.save('cmyk.tiff') # png nie obsługuje trybu 'CMYK'\n",
    "\n"
   ]
  },
  {
   "cell_type": "markdown",
   "metadata": {},
   "source": [
    "Konwersja RGB na tryb CMYK"
   ]
  },
  {
   "cell_type": "code",
   "execution_count": 32,
   "metadata": {},
   "outputs": [],
   "source": [
    "\n",
    "def rgb_to_cmyk(rgb_array):\n",
    "    # Przekształć wartości RGB na zakres [0, 1]\n",
    "    rgb = rgb_array.astype(float) / 255\n",
    "    r, g, b = rgb[..., 0], rgb[..., 1], rgb[..., 2]\n",
    "\n",
    "    # Oblicz kanał Kk (black)\n",
    "    k = 1 - np.max(rgb, axis=2)\n",
    "\n",
    "    # Uniknij dzielenia przez zero\n",
    "    c = (1 - r - k) / (1 - k + 1e-8)\n",
    "    m = (1 - g - k) / (1 - k + 1e-8)\n",
    "    y = (1 - b - k) / (1 - k + 1e-8)\n",
    "\n",
    "    # Zastąp NaN (dla czystej czerni) zerami\n",
    "    c[np.isnan(c)] = 0\n",
    "    m[np.isnan(m)] = 0\n",
    "    y[np.isnan(y)] = 0\n",
    "\n",
    "    # Przekształć na zakres [0, 255]\n",
    "    cmyk = np.stack((c, m, y, k), axis=2) * 255\n",
    "    return cmyk.astype(np.uint8)\n",
    "\n",
    "\n",
    "t_rgb =  rysuj_ramki_kolorowe(100,20,13,4)\n",
    "\n",
    "# Konwersja do CMYK\n",
    "t_cmyk = rgb_to_cmyk(t_rgb)\n",
    "\n",
    "\n",
    "image_cmyk = Image.fromarray(t_cmyk, mode=\"CMYK\")\n",
    "# image_cmyk.save(\"obraz_cmyk.jpg\")\n",
    "# image_cmyk.save(\"obraz_cmyk.tiff\")"
   ]
  },
  {
   "cell_type": "code",
   "execution_count": 33,
   "metadata": {},
   "outputs": [
    {
     "name": "stdout",
     "output_type": "stream",
     "text": [
      "(100, 100, 4)\n"
     ]
    }
   ],
   "source": [
    "im = Image.open('obraz_cmyk.tiff')\n",
    "t_im = np.asarray(im)\n",
    "print(t_im.shape)"
   ]
  },
  {
   "cell_type": "code",
   "execution_count": 34,
   "metadata": {},
   "outputs": [
    {
     "name": "stdout",
     "output_type": "stream",
     "text": [
      "typ danych tablicy kanału c:  uint8\n",
      "rozmiar elemntu tablicy kanału c:  1\n",
      "rozmiar tablicy kanału c:  (100, 100)\n",
      "tryb kanału c:  L\n"
     ]
    }
   ],
   "source": [
    "\n",
    "t_c = t_im[:, :, 0]\n",
    "print(\"typ danych tablicy kanału c: \", t_c.dtype)\n",
    "print(\"rozmiar elemntu tablicy kanału c: \",t_c.itemsize)\n",
    "print(\"rozmiar tablicy kanału c: \",t_c.shape)\n",
    "im_c = Image.fromarray(t_c) # obraz w odcieniach szarości kanału c\n",
    "print(\"tryb kanału c: \", im_c.mode)\n",
    "\n",
    "t_m = t_im[:, :, 1]\n",
    "im_m = Image.fromarray(t_m) # obraz w odcieniach szarości kanału m\n",
    "\n",
    "t_y = t_im[:, :, 2]\n",
    "im_y = Image.fromarray(t_y) # obraz w odcieniach szarości kanału y\n",
    "\n",
    "t_k = t_im[:, :, 3]\n",
    "im_k = Image.fromarray(t_k) # obraz w odcieniach szarości kanału k"
   ]
  },
  {
   "cell_type": "code",
   "execution_count": 35,
   "metadata": {},
   "outputs": [
    {
     "data": {
      "image/png": "[encoded data removed]",
      "text/plain": [
       "<PIL.Image.Image image mode=L size=100x100 at 0x25ABF0FC160>"
      ]
     },
     "execution_count": 35,
     "metadata": {},
     "output_type": "execute_result"
    }
   ],
   "source": [
    "im_c"
   ]
  },
  {
   "cell_type": "code",
   "execution_count": 36,
   "metadata": {},
   "outputs": [
    {
     "data": {
      "image/png": "[encoded data removed]",
      "text/plain": [
       "<PIL.Image.Image image mode=L size=100x100 at 0x25ABF0FC100>"
      ]
     },
     "execution_count": 36,
     "metadata": {},
     "output_type": "execute_result"
    }
   ],
   "source": [
    "im_m"
   ]
  },
  {
   "cell_type": "code",
   "execution_count": 37,
   "metadata": {},
   "outputs": [
    {
     "data": {
      "image/png": "[encoded data removed]",
      "text/plain": [
       "<PIL.Image.Image image mode=L size=100x100 at 0x25ABF0FC2B0>"
      ]
     },
     "execution_count": 37,
     "metadata": {},
     "output_type": "execute_result"
    }
   ],
   "source": [
    "im_y"
   ]
  },
  {
   "cell_type": "code",
   "execution_count": 38,
   "metadata": {},
   "outputs": [
    {
     "data": {
      "image/png": "[encoded data removed]",
      "text/plain": [
       "<PIL.Image.Image image mode=L size=100x100 at 0x25ABF0FC220>"
      ]
     },
     "execution_count": 38,
     "metadata": {},
     "output_type": "execute_result"
    }
   ],
   "source": [
    "im_k"
   ]
  },
  {
   "cell_type": "code",
   "execution_count": 39,
   "metadata": {},
   "outputs": [
    {
     "data": {
      "image/png": "[encoded data removed]",
      "text/plain": [
       "<PIL.Image.Image image mode=RGB size=100x100 at 0x25ABEFCE850>"
      ]
     },
     "execution_count": 39,
     "metadata": {},
     "output_type": "execute_result"
    }
   ],
   "source": [
    "ramki = Image.fromarray(rysuj_ramki_kolorowe(100,20,13,4))\n",
    "ramki"
   ]
  }
 ],
 "metadata": {
  "kernelspec": {
   "display_name": "Python 3",
   "language": "python",
   "name": "python3"
  },
  "language_info": {
   "codemirror_mode": {
    "name": "ipython",
    "version": 3
   },
   "file_extension": ".py",
   "mimetype": "text/x-python",
   "name": "python",
   "nbconvert_exporter": "python",
   "pygments_lexer": "ipython3",
   "version": "3.8.0"
  }
 },
 "nbformat": 4,
 "nbformat_minor": 2
}
